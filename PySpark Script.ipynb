{
 "cells": [
  {
   "cell_type": "code",
   "execution_count": null,
   "id": "61818eb2",
   "metadata": {},
   "outputs": [],
   "source": [
    "!pip install pyspark"
   ]
  },
  {
   "cell_type": "code",
   "execution_count": 3,
   "id": "65b9ff45",
   "metadata": {},
   "outputs": [],
   "source": [
    "import pyspark\n",
    "from pyspark import SparkContext"
   ]
  },
  {
   "cell_type": "code",
   "execution_count": 4,
   "id": "8042bca6",
   "metadata": {},
   "outputs": [
    {
     "name": "stderr",
     "output_type": "stream",
     "text": [
      "23/11/03 17:20:09 WARN Utils: Your hostname, Keziyas-MacBook-Pro.local resolves to a loopback address: 127.0.0.1; using 10.0.0.156 instead (on interface en0)\n",
      "23/11/03 17:20:09 WARN Utils: Set SPARK_LOCAL_IP if you need to bind to another address\n",
      "Setting default log level to \"WARN\".\n",
      "To adjust logging level use sc.setLogLevel(newLevel). For SparkR, use setLogLevel(newLevel).\n",
      "23/11/03 17:20:10 WARN NativeCodeLoader: Unable to load native-hadoop library for your platform... using builtin-java classes where applicable\n"
     ]
    }
   ],
   "source": [
    "sc = SparkContext()"
   ]
  },
  {
   "cell_type": "code",
   "execution_count": 38,
   "id": "2e8c92ae",
   "metadata": {},
   "outputs": [],
   "source": [
    "textFiles = sc.wholeTextFiles(\"dataset/*\") #rdd object"
   ]
  },
  {
   "cell_type": "code",
   "execution_count": 41,
   "id": "56901fb0",
   "metadata": {},
   "outputs": [
    {
     "name": "stderr",
     "output_type": "stream",
     "text": [
      "                                                                                \r"
     ]
    },
    {
     "data": {
      "text/plain": [
       "45"
      ]
     },
     "execution_count": 41,
     "metadata": {},
     "output_type": "execute_result"
    }
   ],
   "source": [
    "textFiles.count()"
   ]
  },
  {
   "cell_type": "code",
   "execution_count": 39,
   "id": "ec419594",
   "metadata": {},
   "outputs": [
    {
     "name": "stderr",
     "output_type": "stream",
     "text": [
      "                                                                                \r"
     ]
    },
    {
     "name": "stdout",
     "output_type": "stream",
     "text": [
      "Project Gu\n"
     ]
    }
   ],
   "source": [
    "files = textFiles.collect() \n",
    "\n",
    "# every element in RDD is a tuple -  (filename,text)\n",
    "\n",
    "# print first 10 characters of the text in first rdd object\n",
    "for f in files:\n",
    "    print(f[1][0:10])\n",
    "    break"
   ]
  },
  {
   "cell_type": "code",
   "execution_count": 49,
   "id": "37132c38",
   "metadata": {},
   "outputs": [
    {
     "data": {
      "text/plain": [
       "PythonRDD[30] at RDD at PythonRDD.scala:53"
      ]
     },
     "execution_count": 49,
     "metadata": {},
     "output_type": "execute_result"
    }
   ],
   "source": [
    "words = textFiles.flatMap(lambda line: line[1].split(\" \"))\n",
    "\n",
    "words_final = words.flatMap(lambda line: (line.replace(\"\\n\",\" \").replace(\"*\",\" \")).split(\" \"))"
   ]
  },
  {
   "cell_type": "code",
   "execution_count": 50,
   "id": "2c57ba77",
   "metadata": {},
   "outputs": [
    {
     "name": "stderr",
     "output_type": "stream",
     "text": [
      "                                                                                \r"
     ]
    },
    {
     "data": {
      "text/plain": [
       "5985597"
      ]
     },
     "execution_count": 50,
     "metadata": {},
     "output_type": "execute_result"
    }
   ],
   "source": [
    "words_final.count()"
   ]
  },
  {
   "cell_type": "code",
   "execution_count": null,
   "id": "82c23c46",
   "metadata": {},
   "outputs": [],
   "source": [
    "words_final.collect()"
   ]
  },
  {
   "cell_type": "code",
   "execution_count": 53,
   "id": "bd87ab81",
   "metadata": {},
   "outputs": [],
   "source": [
    "distinct_words_rdd = words_final.distinct()"
   ]
  },
  {
   "cell_type": "code",
   "execution_count": 54,
   "id": "a4ba9ef8",
   "metadata": {},
   "outputs": [
    {
     "name": "stderr",
     "output_type": "stream",
     "text": [
      "                                                                                \r"
     ]
    },
    {
     "data": {
      "text/plain": [
       "289788"
      ]
     },
     "execution_count": 54,
     "metadata": {},
     "output_type": "execute_result"
    }
   ],
   "source": [
    "distinct_words_rdd.count()"
   ]
  },
  {
   "cell_type": "code",
   "execution_count": null,
   "id": "d9063199",
   "metadata": {},
   "outputs": [],
   "source": []
  }
 ],
 "metadata": {
  "kernelspec": {
   "display_name": "Python 3 (ipykernel)",
   "language": "python",
   "name": "python3"
  },
  "language_info": {
   "codemirror_mode": {
    "name": "ipython",
    "version": 3
   },
   "file_extension": ".py",
   "mimetype": "text/x-python",
   "name": "python",
   "nbconvert_exporter": "python",
   "pygments_lexer": "ipython3",
   "version": "3.9.7"
  }
 },
 "nbformat": 4,
 "nbformat_minor": 5
}
